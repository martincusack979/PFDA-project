{
 "cells": [
  {
   "cell_type": "markdown",
   "id": "fe4707bb",
   "metadata": {},
   "source": [
    "# Programming for Data Analysis"
   ]
  },
  {
   "cell_type": "markdown",
   "id": "a1d1419d",
   "metadata": {},
   "source": [
    "### Analysing a data set on world population growth"
   ]
  },
  {
   "cell_type": "code",
   "execution_count": 1,
   "id": "d4002886",
   "metadata": {},
   "outputs": [],
   "source": [
    "import numpy as np"
   ]
  },
  {
   "cell_type": "code",
   "execution_count": 2,
   "id": "ed316811",
   "metadata": {},
   "outputs": [],
   "source": [
    "import pandas as pd"
   ]
  },
  {
   "cell_type": "code",
   "execution_count": 3,
   "id": "abf6b2bb",
   "metadata": {},
   "outputs": [],
   "source": [
    "df=pd.read_csv (r\"C:\\Users\\cusac\\OneDrive\\Desktop\\world_population.csv\")"
   ]
  },
  {
   "cell_type": "code",
   "execution_count": 10,
   "id": "94a8eb33",
   "metadata": {},
   "outputs": [
    {
     "name": "stdout",
     "output_type": "stream",
     "text": [
      "(234, 16)\n"
     ]
    }
   ],
   "source": [
    "print(df.shape)"
   ]
  },
  {
   "cell_type": "code",
   "execution_count": 5,
   "id": "619067fb",
   "metadata": {},
   "outputs": [
    {
     "name": "stdout",
     "output_type": "stream",
     "text": [
      "   Rank              Country           Capital      Continent  \\\n",
      "0    36          Afghanistan             Kabul           Asia   \n",
      "1   138              Albania            Tirana         Europe   \n",
      "2    34              Algeria           Algiers         Africa   \n",
      "3   213       American Samoa         Pago Pago        Oceania   \n",
      "4   203              Andorra  Andorra la Vella         Europe   \n",
      "5    42               Angola            Luanda         Africa   \n",
      "6   224             Anguilla        The Valley  North America   \n",
      "7   201  Antigua and Barbuda      Saint John’s  North America   \n",
      "\n",
      "   2022 Population  2020 Population  2015 Population  2010 Population  \\\n",
      "0         41128771         38972230         33753499         28189672   \n",
      "1          2842321          2866849          2882481          2913399   \n",
      "2         44903225         43451666         39543154         35856344   \n",
      "3            44273            46189            51368            54849   \n",
      "4            79824            77700            71746            71519   \n",
      "5         35588987         33428485         28127721         23364185   \n",
      "6            15857            15585            14525            13172   \n",
      "7            93763            92664            89941            85695   \n",
      "\n",
      "   2000 Population  1990 Population  1980 Population  1970 Population  \\\n",
      "0         19542982         10694796         12486631         10752971   \n",
      "1          3182021          3295066          2941651          2324731   \n",
      "2         30774621         25518074         18739378         13795915   \n",
      "3            58230            47818            32886            27075   \n",
      "4            66097            53569            35611            19860   \n",
      "5         16394062         11828638          8330047          6029700   \n",
      "6            11047             8316             6560             6283   \n",
      "7            75055            63328            64888            64516   \n",
      "\n",
      "   Area (km²)  Density (per km²)  Growth Rate  World Population Percentage  \n",
      "0      652230            63.0587       1.0257                         0.52  \n",
      "1       28748            98.8702       0.9957                         0.04  \n",
      "2     2381741            18.8531       1.0164                         0.56  \n",
      "3         199           222.4774       0.9831                         0.00  \n",
      "4         468           170.5641       1.0100                         0.00  \n",
      "5     1246700            28.5466       1.0315                         0.45  \n",
      "6          91           174.2527       1.0066                         0.00  \n",
      "7         442           212.1335       1.0058                         0.00  \n"
     ]
    }
   ],
   "source": [
    "print(df.head(8))"
   ]
  },
  {
   "cell_type": "code",
   "execution_count": null,
   "id": "f317a49e",
   "metadata": {},
   "outputs": [],
   "source": [
    "#get rid of index and make \"Rank\" the first column"
   ]
  },
  {
   "cell_type": "code",
   "execution_count": null,
   "id": "ec273ba5",
   "metadata": {},
   "outputs": [],
   "source": []
  },
  {
   "cell_type": "code",
   "execution_count": 6,
   "id": "4606f281",
   "metadata": {},
   "outputs": [
    {
     "data": {
      "text/plain": [
       "Rank                           0\n",
       "Country                        0\n",
       "Capital                        0\n",
       "Continent                      0\n",
       "2022 Population                0\n",
       "2020 Population                0\n",
       "2015 Population                0\n",
       "2010 Population                0\n",
       "2000 Population                0\n",
       "1990 Population                0\n",
       "1980 Population                0\n",
       "1970 Population                0\n",
       "Area (km²)                     0\n",
       "Density (per km²)              0\n",
       "Growth Rate                    0\n",
       "World Population Percentage    0\n",
       "dtype: int64"
      ]
     },
     "execution_count": 6,
     "metadata": {},
     "output_type": "execute_result"
    }
   ],
   "source": [
    "#checking for null values\n",
    "df.isnull().sum()"
   ]
  },
  {
   "cell_type": "code",
   "execution_count": null,
   "id": "cda28bb7",
   "metadata": {},
   "outputs": [],
   "source": []
  }
 ],
 "metadata": {
  "kernelspec": {
   "display_name": "Python 3 (ipykernel)",
   "language": "python",
   "name": "python3"
  },
  "language_info": {
   "codemirror_mode": {
    "name": "ipython",
    "version": 3
   },
   "file_extension": ".py",
   "mimetype": "text/x-python",
   "name": "python",
   "nbconvert_exporter": "python",
   "pygments_lexer": "ipython3",
   "version": "3.9.12"
  }
 },
 "nbformat": 4,
 "nbformat_minor": 5
}
